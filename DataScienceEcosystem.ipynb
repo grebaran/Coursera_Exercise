{
 "cells": [
  {
   "cell_type": "markdown",
   "id": "bacc4b6a",
   "metadata": {},
   "source": [
    "# Data Science Tools and Ecosystem"
   ]
  },
  {
   "cell_type": "markdown",
   "id": "82e3bac6",
   "metadata": {},
   "source": [
    "**In this notebook, Data Science Tools and Ecosystem are summarized.**\n"
   ]
  },
  {
   "cell_type": "markdown",
   "id": "e324d8a9",
   "metadata": {},
   "source": [
    "**Objectives:**\n",
    "+ Python\n",
    "+ JavaScript\n",
    "+ R\n",
    "+ SQL\n",
    "+ C++"
   ]
  },
  {
   "cell_type": "markdown",
   "id": "888e2afe",
   "metadata": {},
   "source": [
    "Some of the popular languages that Data Scientists use are:\n",
    "1. Python\n",
    "2. R\n",
    "3. C++\n"
   ]
  },
  {
   "cell_type": "markdown",
   "id": "d72b00ba",
   "metadata": {},
   "source": [
    "Some of the commonly used libraries used by Data Scientists include:\n",
    "1. Pandas\n",
    "2. Numpy\n",
    "3. Tensorflow"
   ]
  },
  {
   "cell_type": "markdown",
   "id": "5d733cb8",
   "metadata": {},
   "source": [
    "|Data Science Tools|\n",
    "|------------------|\n",
    "|Jupyter NoteBook|\n",
    "|Jupyter Lab|\n",
    "|Spyder|"
   ]
  },
  {
   "cell_type": "markdown",
   "id": "9bd2d21b",
   "metadata": {},
   "source": [
    "### H3 Header\n",
    "Below are a few examples of evaluating arithmetic expressions in Python"
   ]
  },
  {
   "cell_type": "markdown",
   "id": "725b45f3",
   "metadata": {},
   "source": [
    "This a simple arithmetic expression to mutiply then add integers"
   ]
  },
  {
   "cell_type": "code",
   "execution_count": 1,
   "id": "cebcbd09",
   "metadata": {},
   "outputs": [
    {
     "data": {
      "text/plain": [
       "17"
      ]
     },
     "execution_count": 1,
     "metadata": {},
     "output_type": "execute_result"
    }
   ],
   "source": [
    "(3*4)+5"
   ]
  },
  {
   "cell_type": "code",
   "execution_count": 2,
   "id": "d6116e09",
   "metadata": {},
   "outputs": [
    {
     "data": {
      "text/plain": [
       "'200 minutes'"
      ]
     },
     "execution_count": 2,
     "metadata": {},
     "output_type": "execute_result"
    }
   ],
   "source": [
    "#This will convert 200 minutes to hours by diving by 60\n",
    "hours=\"200 minutes\"\n",
    "hours"
   ]
  },
  {
   "cell_type": "markdown",
   "id": "bfbae208",
   "metadata": {},
   "source": [
    "## Author\n",
    "Baran Güre"
   ]
  },
  {
   "cell_type": "code",
   "execution_count": null,
   "id": "04da0814",
   "metadata": {},
   "outputs": [],
   "source": []
  }
 ],
 "metadata": {
  "kernelspec": {
   "display_name": "Python 3 (ipykernel)",
   "language": "python",
   "name": "python3"
  },
  "language_info": {
   "codemirror_mode": {
    "name": "ipython",
    "version": 3
   },
   "file_extension": ".py",
   "mimetype": "text/x-python",
   "name": "python",
   "nbconvert_exporter": "python",
   "pygments_lexer": "ipython3",
   "version": "3.11.5"
  }
 },
 "nbformat": 4,
 "nbformat_minor": 5
}
